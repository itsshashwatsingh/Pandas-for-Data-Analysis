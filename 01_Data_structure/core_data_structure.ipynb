{
 "cells": [
  {
   "cell_type": "markdown",
   "id": "12f8c7a9-4034-4916-adde-b4e679b08b5e",
   "metadata": {},
   "source": [
    "# Core Data Structures in Pandas\n",
    "\n",
    "Pandas is built on **two main data structures**:\n",
    "\n",
    "1. **Series** → One-dimensional (like a single column in Excel)\n",
    "2. **DataFrame** → Two-dimensional (like a full spreadsheet or SQL table)\n",
    "\n",
    "***\n",
    "\n",
    "## Series — 1D Labeled Array\n",
    "\n",
    "A `Series` is like a list with **labels (index)**.\n",
    "\n",
    "```python\n",
    "import pandas as pd\n",
    "\n",
    "s = pd.Series([10, 20, 30, 40])\n",
    "print(s)\n",
    "```\n",
    "\n",
    "**Output:**\n",
    "\n",
    "```\n",
    "0    10\n",
    "1    20\n",
    "2    30\n",
    "3    40\n",
    "dtype: int64\n",
    "```\n",
    "\n",
    "Notice the **automatic index**: 0, 1, 2, 3\n",
    "\n",
    "You can also define a custom index:\n",
    "\n",
    "```python\n",
    "s = pd.Series([10, 20, 30], index=[\"a\", \"b\", \"c\"])\n",
    "```\n",
    "\n",
    "A `pandas.Series` may look similar to a Python dictionary because both store data with labels, but a Series offers much more. Unlike a dictionary, a Series supports fast vectorized operations, automatic index alignment during arithmetic, and handles missing data using `NaN`. It also allows both label-based and position-based access, and integrates seamlessly with the pandas ecosystem, especially DataFrames. While a dictionary is great for simple key–value storage, a Series is better suited for data analysis and manipulation tasks where performance, flexibility, and built-in functionality matter.\n",
    "\n",
    "***\n",
    "\n",
    "## DataFrame — 2D Labeled Table\n",
    "\n",
    "A `DataFrame` is like a **dictionary of Series** — multiple columns with labels.\n",
    "\n",
    "```python\n",
    "data = {\n",
    "    \"name\": [\"Alice\", \"Bob\", \"Charlie\"],\n",
    "    \"age\": [25, 30, 35],\n",
    "    \"city\": [\"Delhi\", \"Mumbai\", \"Bangalore\"]\n",
    "}\n",
    "\n",
    "df = pd.DataFrame(data)\n",
    "print(df)\n",
    "```\n",
    "\n",
    "**Output:**\n",
    "\n",
    "```\n",
    "     name  age      city\n",
    "0   Alice   25     Delhi\n",
    "1     Bob   30    Mumbai\n",
    "2  Charlie   35  Bangalore\n",
    "```\n",
    "\n",
    "Each column in a `DataFrame` is a `Series`.\n",
    "\n",
    "***\n",
    "\n",
    "## Index and Labels\n",
    "\n",
    "Every Series and DataFrame has an **Index** — it helps with:\n",
    "\n",
    "* Fast lookups\n",
    "* Aligning data\n",
    "* Merging & joining\n",
    "* Time series operations\n",
    "\n",
    "```python\n",
    "df.index         # Row labels\n",
    "df.columns       # Column labels\n",
    "```\n",
    "\n",
    "You can change them using:\n",
    "\n",
    "```python\n",
    "df.index = [\"a\", \"b\", \"c\"]\n",
    "df.columns = [\"Name\", \"Age\", \"City\"]\n",
    "```\n",
    "\n",
    "***\n",
    "\n",
    "## Why Learn These Well?\n",
    "\n",
    "Most Pandas operations are built on these foundations:\n",
    "\n",
    "* Selection\n",
    "* Filtering\n",
    "* Merging\n",
    "* Aggregation\n",
    "\n",
    "Understanding Series & DataFrames will make everything else easier.\n",
    "\n",
    "***\n",
    "\n",
    "## Summary\n",
    "\n",
    "* `Series` = 1D array with labels\n",
    "* `DataFrame` = 2D table with rows + columns\n",
    "* Both come with index and are the heart of Pandas"
   ]
  },
  {
   "cell_type": "code",
   "execution_count": 1,
   "id": "5ddee9d9-2f13-420b-9a93-4e57beaf452d",
   "metadata": {},
   "outputs": [],
   "source": [
    "import pandas as pd"
   ]
  },
  {
   "cell_type": "code",
   "execution_count": 2,
   "id": "6fcbe1bf-f8eb-4fa5-ae08-51c2c944f616",
   "metadata": {},
   "outputs": [],
   "source": [
    "s = pd.Series([40,55,67,87,99])"
   ]
  },
  {
   "cell_type": "code",
   "execution_count": 3,
   "id": "7f4d840c-990a-4169-8d65-409cd3b0ccde",
   "metadata": {},
   "outputs": [
    {
     "data": {
      "text/plain": [
       "0    40\n",
       "1    55\n",
       "2    67\n",
       "3    87\n",
       "4    99\n",
       "dtype: int64"
      ]
     },
     "execution_count": 3,
     "metadata": {},
     "output_type": "execute_result"
    }
   ],
   "source": [
    "s"
   ]
  },
  {
   "cell_type": "code",
   "execution_count": 4,
   "id": "05543e9d-33aa-41b7-8aa5-e4ad4d07fd65",
   "metadata": {},
   "outputs": [],
   "source": [
    "s1 = pd.Series([40,55,67,87,99],index=['shashwat','mukesh','aryan','rohan','rajan'])"
   ]
  },
  {
   "cell_type": "code",
   "execution_count": 5,
   "id": "8412e487-4260-4fec-960f-839b0bce1cae",
   "metadata": {},
   "outputs": [
    {
     "data": {
      "text/plain": [
       "shashwat    40\n",
       "mukesh      55\n",
       "aryan       67\n",
       "rohan       87\n",
       "rajan       99\n",
       "dtype: int64"
      ]
     },
     "execution_count": 5,
     "metadata": {},
     "output_type": "execute_result"
    }
   ],
   "source": [
    "s1"
   ]
  },
  {
   "cell_type": "code",
   "execution_count": 6,
   "id": "cb6b4713-dcbd-4d95-89a3-f29b52b859ff",
   "metadata": {},
   "outputs": [],
   "source": [
    "data = {\n",
    "    \"name\": [\"Alice\", \"Bob\", \"Charlie\"],\n",
    "    \"age\": [25, 30, 35],\n",
    "    \"city\": [\"Delhi\", \"Mumbai\", \"Bangalore\"]\n",
    "}\n"
   ]
  },
  {
   "cell_type": "code",
   "execution_count": 9,
   "id": "896085f1-3db2-46a6-b221-c8f5584ca6b2",
   "metadata": {},
   "outputs": [],
   "source": [
    "df = pd.DataFrame(data)"
   ]
  },
  {
   "cell_type": "code",
   "execution_count": 13,
   "id": "089ca7a4-2f85-4a88-a17a-d96e9533fd2d",
   "metadata": {},
   "outputs": [
    {
     "data": {
      "text/html": [
       "<div>\n",
       "<style scoped>\n",
       "    .dataframe tbody tr th:only-of-type {\n",
       "        vertical-align: middle;\n",
       "    }\n",
       "\n",
       "    .dataframe tbody tr th {\n",
       "        vertical-align: top;\n",
       "    }\n",
       "\n",
       "    .dataframe thead th {\n",
       "        text-align: right;\n",
       "    }\n",
       "</style>\n",
       "<table border=\"1\" class=\"dataframe\">\n",
       "  <thead>\n",
       "    <tr style=\"text-align: right;\">\n",
       "      <th></th>\n",
       "      <th>name</th>\n",
       "      <th>age</th>\n",
       "      <th>city</th>\n",
       "    </tr>\n",
       "  </thead>\n",
       "  <tbody>\n",
       "    <tr>\n",
       "      <th>0</th>\n",
       "      <td>Alice</td>\n",
       "      <td>25</td>\n",
       "      <td>Delhi</td>\n",
       "    </tr>\n",
       "    <tr>\n",
       "      <th>1</th>\n",
       "      <td>Bob</td>\n",
       "      <td>30</td>\n",
       "      <td>Mumbai</td>\n",
       "    </tr>\n",
       "    <tr>\n",
       "      <th>2</th>\n",
       "      <td>Charlie</td>\n",
       "      <td>35</td>\n",
       "      <td>Bangalore</td>\n",
       "    </tr>\n",
       "  </tbody>\n",
       "</table>\n",
       "</div>"
      ],
      "text/plain": [
       "      name  age       city\n",
       "0    Alice   25      Delhi\n",
       "1      Bob   30     Mumbai\n",
       "2  Charlie   35  Bangalore"
      ]
     },
     "execution_count": 13,
     "metadata": {},
     "output_type": "execute_result"
    }
   ],
   "source": [
    "df"
   ]
  },
  {
   "cell_type": "code",
   "execution_count": 10,
   "id": "fb02cae6-67f2-4605-bc35-921c7d416339",
   "metadata": {},
   "outputs": [
    {
     "data": {
      "text/plain": [
       "RangeIndex(start=0, stop=3, step=1)"
      ]
     },
     "execution_count": 10,
     "metadata": {},
     "output_type": "execute_result"
    }
   ],
   "source": [
    "df.index"
   ]
  },
  {
   "cell_type": "code",
   "execution_count": 11,
   "id": "73498f2d-e556-4a75-8b3e-03eeb7c6a9fb",
   "metadata": {},
   "outputs": [
    {
     "data": {
      "text/plain": [
       "Index(['name', 'age', 'city'], dtype='object')"
      ]
     },
     "execution_count": 11,
     "metadata": {},
     "output_type": "execute_result"
    }
   ],
   "source": [
    "df.columns"
   ]
  },
  {
   "cell_type": "code",
   "execution_count": 15,
   "id": "36273181-9f79-4977-aa8a-87c941646fea",
   "metadata": {},
   "outputs": [],
   "source": [
    "data2 = {\"a\":[243,242,121],\"b\":[332,433,123],\"c\":[123,122,111]}"
   ]
  },
  {
   "cell_type": "code",
   "execution_count": 16,
   "id": "15b12d5a-15d6-409f-92a1-6557002a1fbc",
   "metadata": {},
   "outputs": [],
   "source": [
    "df = pd.DataFrame(data2)"
   ]
  },
  {
   "cell_type": "code",
   "execution_count": 17,
   "id": "8dfc7c2f-b0e6-4bb0-995b-0ac5deeb4a51",
   "metadata": {},
   "outputs": [
    {
     "data": {
      "text/html": [
       "<div>\n",
       "<style scoped>\n",
       "    .dataframe tbody tr th:only-of-type {\n",
       "        vertical-align: middle;\n",
       "    }\n",
       "\n",
       "    .dataframe tbody tr th {\n",
       "        vertical-align: top;\n",
       "    }\n",
       "\n",
       "    .dataframe thead th {\n",
       "        text-align: right;\n",
       "    }\n",
       "</style>\n",
       "<table border=\"1\" class=\"dataframe\">\n",
       "  <thead>\n",
       "    <tr style=\"text-align: right;\">\n",
       "      <th></th>\n",
       "      <th>a</th>\n",
       "      <th>b</th>\n",
       "      <th>c</th>\n",
       "    </tr>\n",
       "  </thead>\n",
       "  <tbody>\n",
       "    <tr>\n",
       "      <th>0</th>\n",
       "      <td>243</td>\n",
       "      <td>332</td>\n",
       "      <td>123</td>\n",
       "    </tr>\n",
       "    <tr>\n",
       "      <th>1</th>\n",
       "      <td>242</td>\n",
       "      <td>433</td>\n",
       "      <td>122</td>\n",
       "    </tr>\n",
       "    <tr>\n",
       "      <th>2</th>\n",
       "      <td>121</td>\n",
       "      <td>123</td>\n",
       "      <td>111</td>\n",
       "    </tr>\n",
       "  </tbody>\n",
       "</table>\n",
       "</div>"
      ],
      "text/plain": [
       "     a    b    c\n",
       "0  243  332  123\n",
       "1  242  433  122\n",
       "2  121  123  111"
      ]
     },
     "execution_count": 17,
     "metadata": {},
     "output_type": "execute_result"
    }
   ],
   "source": [
    "df"
   ]
  }
 ],
 "metadata": {
  "kernelspec": {
   "display_name": "Python 3 (ipykernel)",
   "language": "python",
   "name": "python3"
  },
  "language_info": {
   "codemirror_mode": {
    "name": "ipython",
    "version": 3
   },
   "file_extension": ".py",
   "mimetype": "text/x-python",
   "name": "python",
   "nbconvert_exporter": "python",
   "pygments_lexer": "ipython3",
   "version": "3.13.5"
  }
 },
 "nbformat": 4,
 "nbformat_minor": 5
}
